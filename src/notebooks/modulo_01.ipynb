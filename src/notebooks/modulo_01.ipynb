{
 "cells": [
  {
   "cell_type": "markdown",
   "id": "399efb54",
   "metadata": {},
   "source": [
    "## Locais onde podemos executar na nuvem o python\n",
    "\n",
    "- [https://replit.com/](https://replit.com/)\n",
    "\n",
    "- [https://gitpod.io/](https://gitpod.io/)\n",
    "    - Só colocar na url o repositorio do github e ele já abre o repo no workspace\n",
    "    - `https://gitpod.io/#<url_do_repo>`\n",
    "    - 50 horas por mês, passou disso terá que pagar\n"
   ]
  },
  {
   "cell_type": "code",
   "execution_count": 2,
   "id": "2d1c6166",
   "metadata": {},
   "outputs": [
    {
     "name": "stdout",
     "output_type": "stream",
     "text": [
      "Python 3.10.0\n"
     ]
    }
   ],
   "source": [
    "#versão do python\n",
    "! python --version"
   ]
  },
  {
   "cell_type": "markdown",
   "id": "13f16644",
   "metadata": {},
   "source": [
    "### Executando o python no terminal\n",
    "\n",
    "Útil para automatizar tarefas "
   ]
  },
  {
   "cell_type": "code",
   "execution_count": 6,
   "id": "9486ca8d",
   "metadata": {},
   "outputs": [],
   "source": [
    "#literais em python\n",
    "! python -c \"'Hello World'\""
   ]
  },
  {
   "cell_type": "code",
   "execution_count": 4,
   "id": "bebbe3aa",
   "metadata": {},
   "outputs": [
    {
     "name": "stdout",
     "output_type": "stream",
     "text": [
      "Hello World\n"
     ]
    }
   ],
   "source": [
    "#executando o python no terminal\n",
    "!  python -c \"print('Hello World')\""
   ]
  },
  {
   "cell_type": "markdown",
   "id": "a3becaca",
   "metadata": {},
   "source": [
    "### Onde o Python está instalado"
   ]
  },
  {
   "cell_type": "code",
   "execution_count": 7,
   "id": "c4786cfe",
   "metadata": {},
   "outputs": [
    {
     "name": "stdout",
     "output_type": "stream",
     "text": [
      "sys.path = [\n",
      "    '/home/jaqueline/pessoal/python_notes/src/notebooks',\n",
      "    '/home/jaqueline/.pyenv/versions/3.10.0/lib/python310.zip',\n",
      "    '/home/jaqueline/.pyenv/versions/3.10.0/lib/python3.10',\n",
      "    '/home/jaqueline/.pyenv/versions/3.10.0/lib/python3.10/lib-dynload',\n",
      "    '/home/jaqueline/pessoal/python_notes/.venv/lib/python3.10/site-packages',\n",
      "]\n",
      "USER_BASE: '/home/jaqueline/.local' (exists)\n",
      "USER_SITE: '/home/jaqueline/.local/lib/python3.10/site-packages' (exists)\n",
      "ENABLE_USER_SITE: False\n"
     ]
    }
   ],
   "source": [
    "! python -m site"
   ]
  },
  {
   "cell_type": "code",
   "execution_count": 8,
   "id": "203d6aeb",
   "metadata": {},
   "outputs": [
    {
     "name": "stdout",
     "output_type": "stream",
     "text": [
      "Python 3.10.0\n"
     ]
    }
   ],
   "source": [
    "#outras formas\n",
    "! python -V"
   ]
  },
  {
   "cell_type": "code",
   "execution_count": 9,
   "id": "fb25b4c0",
   "metadata": {},
   "outputs": [
    {
     "name": "stdout",
     "output_type": "stream",
     "text": [
      "Python 3.10.0 (default, Apr 19 2025, 16:31:08) [GCC 11.4.0]\n"
     ]
    }
   ],
   "source": [
    "! python -VV"
   ]
  },
  {
   "cell_type": "code",
   "execution_count": null,
   "id": "066dad5e",
   "metadata": {},
   "outputs": [
    {
     "name": "stdout",
     "output_type": "stream",
     "text": [
      "5 kites and 0 darts = 5 pieces.\n",
      "10 kites and 5 darts = 15 pieces.\n",
      "25 kites and 20 darts = 45 pieces.\n",
      "70 kites and 55 darts = 125 pieces.\n",
      "195 kites and 150 darts = 345 pieces.\n",
      "540 kites and 395 darts = 935 pieces.\n"
     ]
    }
   ],
   "source": [
    "# exemplo de uso de soluções que usa interface gráfica\n",
    "! python -m turtledemo"
   ]
  },
  {
   "cell_type": "markdown",
   "id": "ffbb58af",
   "metadata": {},
   "source": [
    "### RELP\n",
    "ler, interpretar e loop\n",
    "abrir no terminal\n",
    "\n",
    "- no terminal digite: `python`\n",
    "- para sair: `CTRL + d` ou `exit()`\n",
    "\n",
    "#### ferramenta importante - `help()`\n",
    "\n",
    "- `help()` no terminal, forma interativa do python\n",
    "    - dentro do helç(help>) digite TOPICS e será demonstrado tópicos importantes do python\n",
    "\n",
    "- No terminal python digite `help(o que você quer)`. ex: `help(1)`"
   ]
  },
  {
   "cell_type": "markdown",
   "id": "3819ad8e",
   "metadata": {},
   "source": [
    "### Editores de Código\n",
    "\n",
    "- Vscode\n",
    "\n",
    "- Micro\n",
    "    - Editor de terminal - [https://micro-editor.github.io/](https://micro-editor.github.io/)"
   ]
  },
  {
   "cell_type": "markdown",
   "id": "a24a8448",
   "metadata": {},
   "source": []
  }
 ],
 "metadata": {
  "kernelspec": {
   "display_name": "python-notes",
   "language": "python",
   "name": "python3"
  },
  "language_info": {
   "codemirror_mode": {
    "name": "ipython",
    "version": 3
   },
   "file_extension": ".py",
   "mimetype": "text/x-python",
   "name": "python",
   "nbconvert_exporter": "python",
   "pygments_lexer": "ipython3",
   "version": "3.10.0"
  }
 },
 "nbformat": 4,
 "nbformat_minor": 5
}
