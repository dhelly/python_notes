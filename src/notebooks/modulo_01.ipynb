{
 "cells": [
  {
   "cell_type": "markdown",
   "id": "399efb54",
   "metadata": {},
   "source": [
    "## Locais onde podemos executar na nuvem o python\n",
    "\n",
    "- [https://replit.com/](https://replit.com/)\n",
    "- [https://gitpod.io/](https://gitpod.io/)\n",
    "    - Só colocar na url o repositorio do github e ele já abre o repo no workspace\n",
    "    `https://gitpod.io/#<url_do_repo>`"
   ]
  },
  {
   "cell_type": "code",
   "execution_count": 1,
   "id": "2d1c6166",
   "metadata": {},
   "outputs": [
    {
     "name": "stdout",
     "output_type": "stream",
     "text": [
      "Python 3.10.0\n"
     ]
    }
   ],
   "source": [
    "! python --version"
   ]
  }
 ],
 "metadata": {
  "kernelspec": {
   "display_name": "python-notes",
   "language": "python",
   "name": "python3"
  },
  "language_info": {
   "codemirror_mode": {
    "name": "ipython",
    "version": 3
   },
   "file_extension": ".py",
   "mimetype": "text/x-python",
   "name": "python",
   "nbconvert_exporter": "python",
   "pygments_lexer": "ipython3",
   "version": "3.10.0"
  }
 },
 "nbformat": 4,
 "nbformat_minor": 5
}
